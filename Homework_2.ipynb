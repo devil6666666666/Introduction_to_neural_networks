{
  "cells": [
    {
      "cell_type": "markdown",
      "source": [
        "Нарисуйте сами в Paint цифру пером и подайте на вход вашей нейронной сети, на выходе должна быть цифра от 0 до 9. Для работы с рисунками можно использовать Pillow."
      ],
      "metadata": {
        "id": "KJbiQoxv4VXh"
      }
    },
    {
      "cell_type": "code",
      "execution_count": 1,
      "metadata": {
        "colab": {
          "base_uri": "https://localhost:8080/"
        },
        "id": "ivmZ42D1rL-A",
        "outputId": "bf43ace5-5bc2-419c-bfc2-3bc9d35668f8"
      },
      "outputs": [
        {
          "output_type": "stream",
          "name": "stdout",
          "text": [
            "Downloading data from https://storage.googleapis.com/tensorflow/tf-keras-datasets/mnist.npz\n",
            "11490434/11490434 [==============================] - 0s 0us/step\n",
            "(60000, 28, 28) (60000,)\n"
          ]
        }
      ],
      "source": [
        "import keras\n",
        "from keras.datasets import mnist\n",
        "from keras.models import Sequential\n",
        "from keras.layers import Dense, Dropout, Flatten\n",
        "from keras.layers import Conv2D, MaxPooling2D\n",
        "from keras import backend as K\n",
        "\n",
        "# скачиваем данные и разделяем на надор для обучения и тесовый\n",
        "(x_train, y_train), (x_test, y_test) = mnist.load_data()\n",
        "\n",
        "print(x_train.shape, y_train.shape)"
      ]
    },
    {
      "cell_type": "code",
      "execution_count": 2,
      "metadata": {
        "colab": {
          "base_uri": "https://localhost:8080/"
        },
        "id": "Nl4F5BobrL-M",
        "outputId": "3086645a-8357-4d88-c19a-55cbb01a3dce"
      },
      "outputs": [
        {
          "output_type": "stream",
          "name": "stdout",
          "text": [
            "Размерность x_train: (60000, 28, 28, 1)\n",
            "60000 Размер train\n",
            "10000 Размер test\n"
          ]
        }
      ],
      "source": [
        "num_classes = 10\n",
        "x_train = x_train.reshape(x_train.shape[0], 28, 28, 1)\n",
        "x_test = x_test.reshape(x_test.shape[0], 28, 28, 1)\n",
        "input_shape = (28, 28, 1)\n",
        "\n",
        "# преобразование векторных классов в бинарные матрицы\n",
        "y_train = keras.utils.to_categorical(y_train, num_classes)\n",
        "y_test = keras.utils.to_categorical(y_test, num_classes)\n",
        "\n",
        "x_train = x_train.astype('float32')\n",
        "x_test = x_test.astype('float32')\n",
        "x_train /= 255\n",
        "x_test /= 255\n",
        "print('Размерность x_train:', x_train.shape)\n",
        "print(x_train.shape[0], 'Размер train')\n",
        "print(x_test.shape[0], 'Размер test')"
      ]
    },
    {
      "cell_type": "code",
      "execution_count": 3,
      "metadata": {
        "id": "i2j0fNCprL-O"
      },
      "outputs": [],
      "source": [
        "batch_size = 128\n",
        "epochs = 10\n",
        "\n",
        "model = Sequential()\n",
        "model.add(Conv2D(32, kernel_size=(3, 3),activation='relu',input_shape=input_shape))\n",
        "model.add(Conv2D(64, (3, 3), activation='relu'))\n",
        "model.add(MaxPooling2D(pool_size=(2, 2)))\n",
        "model.add(Dropout(0.25))\n",
        "model.add(Flatten())\n",
        "model.add(Dense(256, activation='relu'))\n",
        "model.add(Dropout(0.5))\n",
        "model.add(Dense(num_classes, activation='softmax'))\n",
        "\n",
        "model.compile(loss=keras.losses.categorical_crossentropy,optimizer=keras.optimizers.Adadelta(),metrics=['accuracy'])"
      ]
    },
    {
      "cell_type": "code",
      "execution_count": 4,
      "metadata": {
        "colab": {
          "base_uri": "https://localhost:8080/"
        },
        "id": "-k514nw0rL-P",
        "outputId": "d42db986-8d99-4e06-a95a-b001a4929b40"
      },
      "outputs": [
        {
          "output_type": "stream",
          "name": "stdout",
          "text": [
            "Epoch 1/10\n",
            "469/469 [==============================] - 165s 348ms/step - loss: 2.2795 - accuracy: 0.1587 - val_loss: 2.2414 - val_accuracy: 0.3747\n",
            "Epoch 2/10\n",
            "469/469 [==============================] - 166s 354ms/step - loss: 2.2165 - accuracy: 0.3040 - val_loss: 2.1626 - val_accuracy: 0.5673\n",
            "Epoch 3/10\n",
            "469/469 [==============================] - 174s 372ms/step - loss: 2.1322 - accuracy: 0.4332 - val_loss: 2.0517 - val_accuracy: 0.6802\n",
            "Epoch 4/10\n",
            "469/469 [==============================] - 161s 343ms/step - loss: 2.0105 - accuracy: 0.5313 - val_loss: 1.8924 - val_accuracy: 0.7300\n",
            "Epoch 5/10\n",
            "469/469 [==============================] - 160s 342ms/step - loss: 1.8405 - accuracy: 0.5888 - val_loss: 1.6749 - val_accuracy: 0.7610\n",
            "Epoch 6/10\n",
            "469/469 [==============================] - 157s 334ms/step - loss: 1.6259 - accuracy: 0.6317 - val_loss: 1.4147 - val_accuracy: 0.7790\n",
            "Epoch 7/10\n",
            "469/469 [==============================] - 171s 364ms/step - loss: 1.3981 - accuracy: 0.6629 - val_loss: 1.1626 - val_accuracy: 0.8007\n",
            "Epoch 8/10\n",
            "469/469 [==============================] - 165s 352ms/step - loss: 1.2013 - accuracy: 0.6896 - val_loss: 0.9617 - val_accuracy: 0.8193\n",
            "Epoch 9/10\n",
            "469/469 [==============================] - 155s 331ms/step - loss: 1.0514 - accuracy: 0.7131 - val_loss: 0.8170 - val_accuracy: 0.8325\n",
            "Epoch 10/10\n",
            "469/469 [==============================] - 170s 364ms/step - loss: 0.9382 - accuracy: 0.7337 - val_loss: 0.7154 - val_accuracy: 0.8432\n",
            "Модель успешно обучена\n",
            "Модель сохранена как mnist.h5\n"
          ]
        },
        {
          "output_type": "stream",
          "name": "stderr",
          "text": [
            "/usr/local/lib/python3.10/dist-packages/keras/src/engine/training.py:3103: UserWarning: You are saving your model as an HDF5 file via `model.save()`. This file format is considered legacy. We recommend using instead the native Keras format, e.g. `model.save('my_model.keras')`.\n",
            "  saving_api.save_model(\n"
          ]
        }
      ],
      "source": [
        "hist = model.fit(x_train, y_train, batch_size = batch_size, epochs=epochs, verbose=1, validation_data=(x_test, y_test))\n",
        "print(\"Модель успешно обучена\")\n",
        "\n",
        "model.save('mnist.h5')\n",
        "print(\"Модель сохранена как mnist.h5\")"
      ]
    },
    {
      "cell_type": "code",
      "execution_count": 5,
      "metadata": {
        "colab": {
          "base_uri": "https://localhost:8080/"
        },
        "id": "9lxqu7LUrL-Q",
        "outputId": "930bddf8-0e8f-4f45-bbf2-582685e4685f"
      },
      "outputs": [
        {
          "output_type": "stream",
          "name": "stdout",
          "text": [
            "Потери на тесте: 0.7153669595718384\n",
            "Точность на тесте: 0.8432000279426575\n"
          ]
        }
      ],
      "source": [
        "score = model.evaluate(x_test, y_test, verbose=0)\n",
        "print('Потери на тесте:', score[0])\n",
        "print('Точность на тесте:', score[1])"
      ]
    },
    {
      "cell_type": "code",
      "source": [],
      "metadata": {
        "id": "bQehFymkvkOx"
      },
      "execution_count": 10,
      "outputs": []
    },
    {
      "cell_type": "markdown",
      "source": [
        "# Новый раздел"
      ],
      "metadata": {
        "id": "OiGSSaNwyNhX"
      }
    },
    {
      "cell_type": "code",
      "execution_count": 23,
      "metadata": {
        "colab": {
          "base_uri": "https://localhost:8080/"
        },
        "id": "_-zub0s0rL-S",
        "outputId": "4d93939b-8993-481c-85d2-7d790652e6f2"
      },
      "outputs": [
        {
          "output_type": "stream",
          "name": "stderr",
          "text": [
            "WARNING:tensorflow:6 out of the last 6 calls to <function Model.make_predict_function.<locals>.predict_function at 0x7d6eab297d00> triggered tf.function retracing. Tracing is expensive and the excessive number of tracings could be due to (1) creating @tf.function repeatedly in a loop, (2) passing tensors with different shapes, (3) passing Python objects instead of tensors. For (1), please define your @tf.function outside of the loop. For (2), @tf.function has reduce_retracing=True option that can avoid unnecessary retracing. For (3), please refer to https://www.tensorflow.org/guide/function#controlling_retracing and https://www.tensorflow.org/api_docs/python/tf/function for  more details.\n"
          ]
        },
        {
          "output_type": "stream",
          "name": "stdout",
          "text": [
            "1/1 [==============================] - 0s 122ms/step\n"
          ]
        }
      ],
      "source": [
        "from keras.models import load_model\n",
        "\n",
        "from PIL import ImageGrab, Image\n",
        "import numpy as np\n",
        "\n",
        "model = load_model('mnist.h5')\n",
        "Digit_img = Image.open('img.png')\n",
        "\n",
        "def predict_digit(img):\n",
        "    # изменение рзмера изобржений на 28x28\n",
        "    img = img.resize((28,28))\n",
        "    # конвертируем rgb в grayscale\n",
        "    img = img.convert('L')\n",
        "    img = np.array(img)\n",
        "    # изменение размерности для поддержки модели ввода и нормализации\n",
        "    img = img.reshape(1,28,28,1)\n",
        "    img = img/255.0\n",
        "    # предсказание цифры\n",
        "    res = model.predict([img])[0]\n",
        "    return np.argmax(res), max(res)\n",
        "\n",
        "\n",
        "\n",
        "digit, acc = predict_digit(Digit_img)"
      ]
    }
  ],
  "metadata": {
    "kernelspec": {
      "display_name": "Python 3",
      "language": "python",
      "name": "python3"
    },
    "language_info": {
      "codemirror_mode": {
        "name": "ipython",
        "version": 3
      },
      "file_extension": ".py",
      "mimetype": "text/x-python",
      "name": "python",
      "nbconvert_exporter": "python",
      "pygments_lexer": "ipython3",
      "version": "3.7.3"
    },
    "colab": {
      "provenance": []
    }
  },
  "nbformat": 4,
  "nbformat_minor": 0
}